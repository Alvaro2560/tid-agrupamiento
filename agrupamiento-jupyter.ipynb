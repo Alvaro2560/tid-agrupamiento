{
 "cells": [
  {
   "cell_type": "markdown",
   "metadata": {},
   "source": [
    "# **Librerías necesarias**"
   ]
  },
  {
   "cell_type": "code",
   "execution_count": null,
   "metadata": {
    "vscode": {
     "languageId": "r"
    }
   },
   "outputs": [],
   "source": [
    "install.packages(\"cluster\")\n",
    "install.packages(\"ggplot2\")\n",
    "library(cluster)\n",
    "library(ggplot2)"
   ]
  },
  {
   "cell_type": "markdown",
   "metadata": {},
   "source": [
    "Cargamos los datos y verificamos los tipos y su estructura"
   ]
  },
  {
   "cell_type": "code",
   "execution_count": null,
   "metadata": {
    "vscode": {
     "languageId": "r"
    }
   },
   "outputs": [],
   "source": [
    "mall_customers <- read.csv(\"mallCustomers.csv\")\n",
    "str(mall_customers)\n",
    "head(mall_customers)\n",
    "summary(mall_customers)"
   ]
  },
  {
   "cell_type": "markdown",
   "metadata": {},
   "source": [
    "# **Agrupamiento**"
   ]
  },
  {
   "cell_type": "markdown",
   "metadata": {},
   "source": [
    "### **k-means**"
   ]
  },
  {
   "cell_type": "markdown",
   "metadata": {},
   "source": [
    "Primero, calcularemos el número óptimo de centroides a utilizar mediante el método del codo"
   ]
  },
  {
   "cell_type": "code",
   "execution_count": null,
   "metadata": {
    "vscode": {
     "languageId": "r"
    }
   },
   "outputs": [],
   "source": [
    "\n",
    "set.seed(123)\n",
    "wcss <- vector()\n",
    "for (i in 1:10) {\n",
    "  kmeans_model <- kmeans(mall_customers[, c(\"Age\", \"Annual.Income\", \"Spending.Score\")], centers = i, nstart = 10)\n",
    "  wcss[i] <- kmeans_model$tot.withinss\n",
    "}"
   ]
  },
  {
   "cell_type": "markdown",
   "metadata": {},
   "source": [
    "Graficamos los resultados"
   ]
  },
  {
   "cell_type": "code",
   "execution_count": null,
   "metadata": {
    "vscode": {
     "languageId": "r"
    }
   },
   "outputs": [],
   "source": [
    "plot(1:10, wcss, type = 'b', main = \"Método del Codo\", xlab = \"Número de Clústeres (k)\", ylab = \"WCSS\")"
   ]
  },
  {
   "cell_type": "markdown",
   "metadata": {},
   "source": [
    "Determinamos que el número óptimo de centroides es 5, por lo tanto, aplicamos el algoritmo con dicho número, usando todas las variables excepto el género"
   ]
  },
  {
   "cell_type": "code",
   "execution_count": null,
   "metadata": {
    "vscode": {
     "languageId": "r"
    }
   },
   "outputs": [],
   "source": [
    "kmeans_model <- kmeans(mall_customers[, c(\"Age\", \"Annual.Income\", \"Spending.Score\")], centers = 5, nstart = 10)\n",
    "mall_customers$cluster <- kmeans_model$cluster"
   ]
  },
  {
   "cell_type": "markdown",
   "metadata": {},
   "source": [
    "Calculamos la información retenida para verificar la calidad del modelo"
   ]
  },
  {
   "cell_type": "code",
   "execution_count": null,
   "metadata": {
    "vscode": {
     "languageId": "r"
    }
   },
   "outputs": [],
   "source": [
    "centroids <- kmeans_model$centers\n",
    "distances_to_centroid <- as.matrix(dist(mall_customers[, c(\"Age\", \"Annual.Income\", \"Spending.Score\")], method = \"euclidean\"))\n",
    "withinss <- rep(0, 5)\n",
    "for (i in 1:5) {\n",
    "  withinss[i] <- sum((distances_to_centroid[, i])^2)\n",
    "}\n",
    "tot_withinss <- sum(withinss)\n",
    "totss <- sum((distances_to_centroid)^2)\n",
    "betweenss <- totss - tot_withinss\n",
    "information <- betweenss / totss\n",
    "information"
   ]
  },
  {
   "cell_type": "markdown",
   "metadata": {},
   "source": [
    "La información retenida es muy alta, lo que indica que es una buena agrupación"
   ]
  },
  {
   "cell_type": "markdown",
   "metadata": {},
   "source": [
    "Graficamos los resultados"
   ]
  },
  {
   "cell_type": "code",
   "execution_count": null,
   "metadata": {
    "vscode": {
     "languageId": "r"
    }
   },
   "outputs": [],
   "source": [
    "ggplot(mall_customers, aes(x = Annual.Income, y = Spending.Score, color = factor(cluster))) +\n",
    "  geom_point() +\n",
    "  geom_point(data = kmeans_model$centers, aes(x = Annual.Income, y = Spending.Score), color = 'black', size = 3, shape = 16) +\n",
    "  labs(title = \"Segmentación de clientes\", x = \"Ingresos Anuales\", y = \"Puntuación de Gasto\") +\n",
    "  theme_minimal()"
   ]
  },
  {
   "cell_type": "markdown",
   "metadata": {},
   "source": [
    "Observamos los resultados de forma numérica"
   ]
  },
  {
   "cell_type": "code",
   "execution_count": null,
   "metadata": {
    "vscode": {
     "languageId": "r"
    }
   },
   "outputs": [],
   "source": [
    "\n",
    "table(mall_customers$cluster)\n",
    "prop.table(table(mall_customers$cluster))\n"
   ]
  },
  {
   "cell_type": "code",
   "execution_count": null,
   "metadata": {
    "vscode": {
     "languageId": "r"
    }
   },
   "outputs": [],
   "source": [
    "cluster_stats <- aggregate(. ~ cluster, data = mall_customers[, c(\"Annual.Income\", \"Spending.Score\", \"cluster\")], FUN = function(x) c(mean = mean(x), sd = sd(x), min = min(x), max = max(x)))\n",
    "cluster_stats"
   ]
  },
  {
   "cell_type": "markdown",
   "metadata": {},
   "source": [
    "### **Dendrogramas Jerárquicos**"
   ]
  },
  {
   "cell_type": "markdown",
   "metadata": {},
   "source": [
    "##### **Single**"
   ]
  },
  {
   "cell_type": "markdown",
   "metadata": {},
   "source": [
    "Creamos el dendrograma usando el método single"
   ]
  },
  {
   "cell_type": "code",
   "execution_count": null,
   "metadata": {
    "vscode": {
     "languageId": "r"
    }
   },
   "outputs": [],
   "source": [
    "dendrogram_single <- hclust(dist(mall_customers[, c(\"Age\", \"Annual.Income\", \"Spending.Score\")]), method = \"single\")"
   ]
  },
  {
   "cell_type": "markdown",
   "metadata": {},
   "source": [
    "Graficamos el resultado"
   ]
  },
  {
   "cell_type": "code",
   "execution_count": null,
   "metadata": {
    "vscode": {
     "languageId": "r"
    }
   },
   "outputs": [],
   "source": [
    "plot(dendrogram_single, main = \"Single\", xlab = \"\", ylab = \"Distancia\")"
   ]
  },
  {
   "cell_type": "markdown",
   "metadata": {},
   "source": [
    "##### **Centroid**"
   ]
  },
  {
   "cell_type": "markdown",
   "metadata": {},
   "source": [
    "Creamos el dendrograma usando el método centroid"
   ]
  },
  {
   "cell_type": "code",
   "execution_count": null,
   "metadata": {
    "vscode": {
     "languageId": "r"
    }
   },
   "outputs": [],
   "source": [
    "dendrogram_centroid <- hclust(dist(mall_customers[, c(\"Age\", \"Annual.Income\", \"Spending.Score\")]), method = \"centroid\")"
   ]
  },
  {
   "cell_type": "markdown",
   "metadata": {},
   "source": [
    "Graficamos el resultado"
   ]
  },
  {
   "cell_type": "code",
   "execution_count": null,
   "metadata": {
    "vscode": {
     "languageId": "r"
    }
   },
   "outputs": [],
   "source": [
    "plot(dendrogram_centroid, main = \"Centroid\", xlab = \"\", ylab = \"Distancia\")"
   ]
  },
  {
   "cell_type": "markdown",
   "metadata": {},
   "source": [
    "##### **Ward**"
   ]
  },
  {
   "cell_type": "markdown",
   "metadata": {},
   "source": [
    "Creamos el dendrograma usando el método ward"
   ]
  },
  {
   "cell_type": "code",
   "execution_count": null,
   "metadata": {
    "vscode": {
     "languageId": "r"
    }
   },
   "outputs": [],
   "source": [
    "dendrogram_ward <- hclust(dist(mall_customers[, c(\"Age\", \"Annual.Income\", \"Spending.Score\")]), method = \"ward.D\")"
   ]
  },
  {
   "cell_type": "markdown",
   "metadata": {},
   "source": [
    "Graficamos el resultado"
   ]
  },
  {
   "cell_type": "code",
   "execution_count": null,
   "metadata": {
    "vscode": {
     "languageId": "r"
    }
   },
   "outputs": [],
   "source": [
    "plot(dendrogram_ward, main = \"Ward\", xlab = \"\", ylab = \"Distancia\")"
   ]
  },
  {
   "cell_type": "markdown",
   "metadata": {},
   "source": [
    "##### **Evaluación de los dendrogramas**"
   ]
  },
  {
   "cell_type": "markdown",
   "metadata": {},
   "source": [
    "Comparamos los dendrogramas y nos quedamos con el que preserva mejor las distancias originales mediante el coeficiente de correlación de Cophenetic"
   ]
  },
  {
   "cell_type": "code",
   "execution_count": null,
   "metadata": {
    "vscode": {
     "languageId": "r"
    }
   },
   "outputs": [],
   "source": [
    "cophenetic_corr_single <- cophenetic(dendrogram_single)\n",
    "cophenetic_corr_centroid <- cophenetic(dendrogram_centroid)\n",
    "cophenetic_corr_ward <- cophenetic(dendrogram_ward)\n",
    "cat(\"Coeficiente de correlación de Cophenetic para el método Single:\", cor(dist(mall_customers[, c(\"Age\", \"Annual.Income\", \"Spending.Score\")]), cophenetic_corr_single), \"\\n\")\n",
    "cat(\"Coeficiente de correlación de Cophenetic para el método Centroid:\", cor(dist(mall_customers[, c(\"Age\", \"Annual.Income\", \"Spending.Score\")]), cophenetic_corr_centroid), \"\\n\")\n",
    "cat(\"Coeficiente de correlación de Cophenetic para el método Ward:\", cor(dist(mall_customers[, c(\"Age\", \"Annual.Income\", \"Spending.Score\")]), cophenetic_corr_ward), \"\\n\")"
   ]
  },
  {
   "cell_type": "markdown",
   "metadata": {},
   "source": [
    "Observamos que el coeficiente más cercano a 1 es el que corresponde al método Centroid, por lo que lo escogemos antes que los otros dos"
   ]
  },
  {
   "cell_type": "code",
   "execution_count": null,
   "metadata": {
    "vscode": {
     "languageId": "r"
    }
   },
   "outputs": [],
   "source": [
    "groups <- cutree(dendrogram_centroid, k = 5)\n",
    "mall_customers$dendrogram <- groups"
   ]
  },
  {
   "cell_type": "markdown",
   "metadata": {},
   "source": [
    "Graficamos los resultados"
   ]
  },
  {
   "cell_type": "code",
   "execution_count": null,
   "metadata": {
    "vscode": {
     "languageId": "r"
    }
   },
   "outputs": [],
   "source": [
    "ggplot(mall_customers, aes(x = Annual.Income, y = Spending.Score, color = factor(groups))) +\n",
    "  geom_point() +\n",
    "  labs(title = \"Segmentación de clientes utilizando Agrupamiento Jerárquico\", x = \"Ingresos Anuales\", y = \"Puntuación de Gasto\") +\n",
    "  theme_minimal()"
   ]
  },
  {
   "cell_type": "markdown",
   "metadata": {},
   "source": [
    "Visualizamos los resultados de forma numérica"
   ]
  },
  {
   "cell_type": "code",
   "execution_count": null,
   "metadata": {
    "vscode": {
     "languageId": "r"
    }
   },
   "outputs": [],
   "source": [
    "table(mall_customers$dendrogram)\n",
    "prop.table(table(mall_customers$dendrogram))"
   ]
  },
  {
   "cell_type": "markdown",
   "metadata": {},
   "source": [
    "### **Repetimos las tareas por género**"
   ]
  },
  {
   "cell_type": "markdown",
   "metadata": {},
   "source": [
    "Separamos los datos por género"
   ]
  },
  {
   "cell_type": "code",
   "execution_count": null,
   "metadata": {
    "vscode": {
     "languageId": "r"
    }
   },
   "outputs": [],
   "source": [
    "mall_customers <- read.csv(\"mallCustomers.csv\")\n",
    "mall_customers_male <- subset(mall_customers, Genre == \"Male\")\n",
    "mall_customers_female <- subset(mall_customers, Genre == \"Female\")"
   ]
  },
  {
   "cell_type": "markdown",
   "metadata": {},
   "source": [
    "##### **k-means Género Hombre**"
   ]
  },
  {
   "cell_type": "markdown",
   "metadata": {},
   "source": [
    "Determinamos el número óptimo de centroides usando el método del codo"
   ]
  },
  {
   "cell_type": "code",
   "execution_count": null,
   "metadata": {
    "vscode": {
     "languageId": "r"
    }
   },
   "outputs": [],
   "source": [
    "\n",
    "set.seed(123)\n",
    "wcss_male <- vector()\n",
    "for (i in 1:10) {\n",
    "  kmeans_model_male <- kmeans(mall_customers_male[, c(\"Age\", \"Annual.Income\", \"Spending.Score\")], centers = i, nstart = 10)\n",
    "  wcss_male[i] <- kmeans_model_male$tot.withinss\n",
    "}\n",
    "plot(1:10, wcss_male, type = 'b', main = \"Método del Codo\", xlab = \"Número de Clústeres (k)\", ylab = \"WCSS\")"
   ]
  },
  {
   "cell_type": "markdown",
   "metadata": {},
   "source": [
    "El número de centroides será 5"
   ]
  },
  {
   "cell_type": "code",
   "execution_count": null,
   "metadata": {
    "vscode": {
     "languageId": "r"
    }
   },
   "outputs": [],
   "source": [
    "kmeans_male <- kmeans(mall_customers_male[, c(\"Age\", \"Annual.Income\", \"Spending.Score\")], centers = 5, nstart = 10)\n",
    "mall_customers_male$cluster <- kmeans_male$cluster"
   ]
  },
  {
   "cell_type": "markdown",
   "metadata": {},
   "source": [
    "Graficamos los resultados"
   ]
  },
  {
   "cell_type": "code",
   "execution_count": null,
   "metadata": {
    "vscode": {
     "languageId": "r"
    }
   },
   "outputs": [],
   "source": [
    "ggplot(mall_customers_male, aes(x = Annual.Income, y = Spending.Score, color = factor(cluster))) +\n",
    "  geom_point() +\n",
    "  geom_point(data = kmeans_male$centers, aes(x = Annual.Income, y = Spending.Score), color = 'black', size = 3, shape = 16) +\n",
    "  labs(title = \"Segmentación de clientes masculinos utilizando k-means\", x = \"Ingresos Anuales\", y = \"Puntuación de Gasto\") +\n",
    "  theme_minimal()"
   ]
  },
  {
   "cell_type": "markdown",
   "metadata": {},
   "source": [
    "Visualizamos los resultados de forma numérica"
   ]
  },
  {
   "cell_type": "code",
   "execution_count": null,
   "metadata": {
    "vscode": {
     "languageId": "r"
    }
   },
   "outputs": [],
   "source": [
    "table(mall_customers_male$cluster)\n",
    "prop.table(table(mall_customers_male$cluster))"
   ]
  },
  {
   "cell_type": "markdown",
   "metadata": {},
   "source": [
    "##### **k-means Género Mujer**"
   ]
  },
  {
   "cell_type": "markdown",
   "metadata": {},
   "source": [
    "Determinamos el número óptimo de centroides usando el método del codo"
   ]
  },
  {
   "cell_type": "code",
   "execution_count": null,
   "metadata": {
    "vscode": {
     "languageId": "r"
    }
   },
   "outputs": [],
   "source": [
    "set.seed(123)\n",
    "wcss_female <- vector()\n",
    "for (i in 1:10) {\n",
    "  kmeans_model_female <- kmeans(mall_customers_female[, c(\"Age\", \"Annual.Income\", \"Spending.Score\")], centers = i, nstart = 10)\n",
    "  wcss_female[i] <- kmeans_model_female$tot.withinss\n",
    "}\n",
    "plot(1:10, wcss_female, type = 'b', main = \"Método del Codo\", xlab = \"Número de Clústeres (k)\", ylab = \"WCSS\")"
   ]
  },
  {
   "cell_type": "markdown",
   "metadata": {},
   "source": [
    "El número de centroides será 5"
   ]
  },
  {
   "cell_type": "code",
   "execution_count": null,
   "metadata": {
    "vscode": {
     "languageId": "r"
    }
   },
   "outputs": [],
   "source": [
    "kmeans_female <- kmeans(mall_customers_female[, c(\"Age\", \"Annual.Income\", \"Spending.Score\")], centers = 5, nstart = 10)\n",
    "mall_customers_female$cluster <- kmeans_female$cluster"
   ]
  },
  {
   "cell_type": "markdown",
   "metadata": {},
   "source": [
    "Graficamos los resultados"
   ]
  },
  {
   "cell_type": "code",
   "execution_count": null,
   "metadata": {
    "vscode": {
     "languageId": "r"
    }
   },
   "outputs": [],
   "source": [
    "ggplot(mall_customers_female, aes(x = Annual.Income, y = Spending.Score, color = factor(cluster))) +\n",
    "  geom_point() +\n",
    "  geom_point(data = kmeans_female$centers, aes(x = Annual.Income, y = Spending.Score), color = 'black', size = 3, shape = 16) +\n",
    "  labs(title = \"Segmentación de clientes femeninos utilizando k-means\", x = \"Ingresos Anuales\", y = \"Puntuación de Gasto\") +\n",
    "  theme_minimal()"
   ]
  },
  {
   "cell_type": "markdown",
   "metadata": {},
   "source": [
    "Visualizamos los resultados de forma numérica"
   ]
  },
  {
   "cell_type": "code",
   "execution_count": null,
   "metadata": {
    "vscode": {
     "languageId": "r"
    }
   },
   "outputs": [],
   "source": [
    "table(mall_customers_female$cluster)\n",
    "prop.table(table(mall_customers_female$cluster))"
   ]
  },
  {
   "cell_type": "markdown",
   "metadata": {},
   "source": [
    "##### **Dendrogramas Jerárquicos Género Hombre**"
   ]
  },
  {
   "cell_type": "markdown",
   "metadata": {},
   "source": [
    "##### **Single**"
   ]
  },
  {
   "cell_type": "code",
   "execution_count": null,
   "metadata": {
    "vscode": {
     "languageId": "r"
    }
   },
   "outputs": [],
   "source": [
    "dendrogram_male_single <- hclust(dist(mall_customers_male[, c(\"Age\", \"Annual.Income\", \"Spending.Score\")]), method = \"single\")"
   ]
  },
  {
   "cell_type": "markdown",
   "metadata": {},
   "source": [
    "Graficamos los resultados"
   ]
  },
  {
   "cell_type": "code",
   "execution_count": null,
   "metadata": {
    "vscode": {
     "languageId": "r"
    }
   },
   "outputs": [],
   "source": [
    "plot(dendrogram_male_single, main = \"Single\", xlab = \"\", ylab = \"Distance\")"
   ]
  },
  {
   "cell_type": "markdown",
   "metadata": {},
   "source": [
    "##### **Centroid**"
   ]
  },
  {
   "cell_type": "code",
   "execution_count": null,
   "metadata": {
    "vscode": {
     "languageId": "r"
    }
   },
   "outputs": [],
   "source": [
    "dendrogram_male_centroid <- hclust(dist(mall_customers_male[, c(\"Age\", \"Annual.Income\", \"Spending.Score\")]), method = \"centroid\")"
   ]
  },
  {
   "cell_type": "markdown",
   "metadata": {},
   "source": [
    "Graficamos los resultados"
   ]
  },
  {
   "cell_type": "code",
   "execution_count": null,
   "metadata": {
    "vscode": {
     "languageId": "r"
    }
   },
   "outputs": [],
   "source": [
    "plot(dendrogram_male_centroid, main = \"Centroid\", xlab = \"\", ylab = \"Distance\")"
   ]
  },
  {
   "cell_type": "markdown",
   "metadata": {},
   "source": [
    "##### **Ward**"
   ]
  },
  {
   "cell_type": "code",
   "execution_count": null,
   "metadata": {
    "vscode": {
     "languageId": "r"
    }
   },
   "outputs": [],
   "source": [
    "dendrogram_male_ward <- hclust(dist(mall_customers_male[, c(\"Age\", \"Annual.Income\", \"Spending.Score\")]), method = \"ward.D\")"
   ]
  },
  {
   "cell_type": "markdown",
   "metadata": {},
   "source": [
    "Graficamos los resultados"
   ]
  },
  {
   "cell_type": "code",
   "execution_count": null,
   "metadata": {
    "vscode": {
     "languageId": "r"
    }
   },
   "outputs": [],
   "source": [
    "plot(dendrogram_male_ward, main = \"Ward\", xlab = \"\", ylab = \"Distance\")"
   ]
  },
  {
   "cell_type": "markdown",
   "metadata": {},
   "source": [
    "##### **Evaluación de los dendrogramas**"
   ]
  },
  {
   "cell_type": "markdown",
   "metadata": {},
   "source": [
    "Comparamos los dendrogramas y nos quedamos con el que preserva mejor las distancias originales mediante el coeficiente de correlación de Cophenetic"
   ]
  },
  {
   "cell_type": "code",
   "execution_count": null,
   "metadata": {
    "vscode": {
     "languageId": "r"
    }
   },
   "outputs": [],
   "source": [
    "cophenetic_corr_single_male <- cophenetic(dendrogram_male_single)\n",
    "cophenetic_corr_centroid_male <- cophenetic(dendrogram_male_centroid)\n",
    "cophenetic_corr_ward_male <- cophenetic(dendrogram_male_ward)\n",
    "cat(\"Coeficiente de correlación de Cophenetic para el método Single:\", cor(dist(mall_customers_male[, c(\"Age\", \"Annual.Income\", \"Spending.Score\")]), cophenetic_corr_single_male), \"\\n\")\n",
    "cat(\"Coeficiente de correlación de Cophenetic para el método Centroid:\", cor(dist(mall_customers_male[, c(\"Age\", \"Annual.Income\", \"Spending.Score\")]), cophenetic_corr_centroid_male), \"\\n\")\n",
    "cat(\"Coeficiente de correlación de Cophenetic para el método Ward:\", cor(dist(mall_customers_male[, c(\"Age\", \"Annual.Income\", \"Spending.Score\")]), cophenetic_corr_ward_male), \"\\n\")"
   ]
  },
  {
   "cell_type": "markdown",
   "metadata": {},
   "source": [
    "Al igual que con el conjunto de datos completo, el dendrograma que preserva mejor las distancias originales es el método Centroid"
   ]
  },
  {
   "cell_type": "markdown",
   "metadata": {},
   "source": [
    "##### **Dendrogramas Jerárquicos Género Mujer**"
   ]
  },
  {
   "cell_type": "markdown",
   "metadata": {},
   "source": [
    "##### **Single**"
   ]
  },
  {
   "cell_type": "code",
   "execution_count": null,
   "metadata": {
    "vscode": {
     "languageId": "r"
    }
   },
   "outputs": [],
   "source": [
    "dendrogram_female_single <- hclust(dist(mall_customers_female[, c(\"Age\", \"Annual.Income\", \"Spending.Score\")]), method = \"single\")"
   ]
  },
  {
   "cell_type": "markdown",
   "metadata": {},
   "source": [
    "Graficamos los resultados"
   ]
  },
  {
   "cell_type": "code",
   "execution_count": null,
   "metadata": {
    "vscode": {
     "languageId": "r"
    }
   },
   "outputs": [],
   "source": [
    "plot(dendrogram_female_single, main = \"Single\", xlab = \"\", ylab = \"Distance\")"
   ]
  },
  {
   "cell_type": "markdown",
   "metadata": {},
   "source": [
    "##### **Centroid**"
   ]
  },
  {
   "cell_type": "code",
   "execution_count": null,
   "metadata": {
    "vscode": {
     "languageId": "r"
    }
   },
   "outputs": [],
   "source": [
    "dendrogram_female_centroid <- hclust(dist(mall_customers_female[, c(\"Age\", \"Annual.Income\", \"Spending.Score\")]), method = \"centroid\")"
   ]
  },
  {
   "cell_type": "markdown",
   "metadata": {},
   "source": [
    "Graficamos los resultados"
   ]
  },
  {
   "cell_type": "code",
   "execution_count": null,
   "metadata": {
    "vscode": {
     "languageId": "r"
    }
   },
   "outputs": [],
   "source": [
    "plot(dendrogram_female_centroid, main = \"Centroid\", xlab = \"\", ylab = \"Distance\")"
   ]
  },
  {
   "cell_type": "markdown",
   "metadata": {},
   "source": [
    "##### **Ward**"
   ]
  },
  {
   "cell_type": "code",
   "execution_count": null,
   "metadata": {
    "vscode": {
     "languageId": "r"
    }
   },
   "outputs": [],
   "source": [
    "dendrogram_female_ward <- hclust(dist(mall_customers_female[, c(\"Age\", \"Annual.Income\", \"Spending.Score\")]), method = \"ward.D\")"
   ]
  },
  {
   "cell_type": "markdown",
   "metadata": {},
   "source": [
    "Graficamos los resultados"
   ]
  },
  {
   "cell_type": "code",
   "execution_count": null,
   "metadata": {
    "vscode": {
     "languageId": "r"
    }
   },
   "outputs": [],
   "source": [
    "plot(dendrogram_female_ward, main = \"Ward\", xlab = \"\", ylab = \"Distance\")"
   ]
  },
  {
   "cell_type": "markdown",
   "metadata": {},
   "source": [
    "##### **Evaluación de los dendrogramas**"
   ]
  },
  {
   "cell_type": "markdown",
   "metadata": {},
   "source": [
    "Comparamos los dendrogramas y nos quedamos con el que preserva mejor las distancias originales mediante el coeficiente de correlación de Cophenetic"
   ]
  },
  {
   "cell_type": "code",
   "execution_count": null,
   "metadata": {
    "vscode": {
     "languageId": "r"
    }
   },
   "outputs": [],
   "source": [
    "cophenetic_corr_single_female <- cophenetic(dendrogram_female_single)\n",
    "cophenetic_corr_centroid_female <- cophenetic(dendrogram_female_centroid)\n",
    "cophenetic_corr_ward_female <- cophenetic(dendrogram_female_ward)\n",
    "cat(\"Coeficiente de correlación de Cophenetic para el método Single:\", cor(dist(mall_customers_female[, c(\"Age\", \"Annual.Income\", \"Spending.Score\")]), cophenetic_corr_single_female), \"\\n\")\n",
    "cat(\"Coeficiente de correlación de Cophenetic para el método Centroid:\", cor(dist(mall_customers_female[, c(\"Age\", \"Annual.Income\", \"Spending.Score\")]), cophenetic_corr_centroid_female), \"\\n\")\n",
    "cat(\"Coeficiente de correlación de Cophenetic para el método Ward:\", cor(dist(mall_customers_female[, c(\"Age\", \"Annual.Income\", \"Spending.Score\")]), cophenetic_corr_ward_female), \"\\n\")"
   ]
  },
  {
   "cell_type": "markdown",
   "metadata": {},
   "source": [
    "Al igual que con el conjunto de datos completo y separado por el género hombre, el dendrograma que preserva mejor las distancias originales es el método Centroid"
   ]
  },
  {
   "cell_type": "markdown",
   "metadata": {},
   "source": [
    "### **Diferencias entre agrupaciones por género**"
   ]
  },
  {
   "cell_type": "code",
   "execution_count": null,
   "metadata": {
    "vscode": {
     "languageId": "r"
    }
   },
   "outputs": [],
   "source": [
    "ggplot(mall_customers_male, aes(x = Annual.Income, y = Spending.Score, color = factor(cluster))) +\n",
    "  geom_point() +\n",
    "  geom_point(data = kmeans_male$centers, aes(x = Annual.Income, y = Spending.Score), color = 'black', size = 3, shape = 16) +\n",
    "  labs(title = \"Segmentación de clientes masculinos utilizando k-means\", x = \"Ingresos Anuales\", y = \"Puntuación de Gasto\") +\n",
    "  theme_minimal()"
   ]
  },
  {
   "cell_type": "code",
   "execution_count": null,
   "metadata": {
    "vscode": {
     "languageId": "r"
    }
   },
   "outputs": [],
   "source": [
    "table(mall_customers_male$cluster)\n",
    "prop.table(table(mall_customers_male$cluster))"
   ]
  },
  {
   "cell_type": "code",
   "execution_count": null,
   "metadata": {
    "vscode": {
     "languageId": "r"
    }
   },
   "outputs": [],
   "source": [
    "ggplot(mall_customers_female, aes(x = Annual.Income, y = Spending.Score, color = factor(cluster))) +\n",
    "  geom_point() +\n",
    "  geom_point(data = kmeans_female$centers, aes(x = Annual.Income, y = Spending.Score), color = 'black', size = 3, shape = 16) +\n",
    "  labs(title = \"Segmentación de clientes femeninos utilizando k-means\", x = \"Ingresos Anuales\", y = \"Puntuación de Gasto\") +\n",
    "  theme_minimal()"
   ]
  },
  {
   "cell_type": "code",
   "execution_count": null,
   "metadata": {
    "vscode": {
     "languageId": "r"
    }
   },
   "outputs": [],
   "source": [
    "table(mall_customers_female$cluster)\n",
    "prop.table(table(mall_customers_female$cluster))"
   ]
  },
  {
   "cell_type": "markdown",
   "metadata": {},
   "source": [
    "Si comparamos los resultados arrojados por las agrupaciones, observamos que no hay una diferencia realmente notable entre los distintos grupos generados por ambas agrupaciones.\n",
    "\n",
    "Sin embargo, si nos fijamos en los centroides de ambas agrupaciones, nos podemos dar cuenta que los centroides de las agrupaciones del conjunto de clientas femeninas tienen un valor mayor en el eje y respecto a los clientes masculinos. Esto significa que, en promedio, las clientes femeninas tienen una puntuación de gasto mayor que los clientes masculinos.\n",
    "\n",
    "Por otro lado, si nos fijamos en los resultados numéricos, observamos que los porcentajes de las agrupaciones del género masculino están bastante repartidas uniformemente, siendo el grupo 2 el mayoritario, mientras que el grupo mayoritario de clientas femeninas es el 1, con un 41% de las mismas."
   ]
  }
 ],
 "metadata": {
  "language_info": {
   "name": "python"
  }
 },
 "nbformat": 4,
 "nbformat_minor": 2
}
