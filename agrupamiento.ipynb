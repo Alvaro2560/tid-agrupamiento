{
 "cells": [
  {
   "cell_type": "markdown",
   "metadata": {},
   "source": [
    "# **Librerías necesarias**"
   ]
  },
  {
   "cell_type": "code",
   "execution_count": null,
   "metadata": {
    "vscode": {
     "languageId": "r"
    }
   },
   "outputs": [],
   "source": [
    "install.packages(\"cluster\")\n",
    "install.packages(\"ggplot2\")\n",
    "library(cluster)\n",
    "library(ggplot2)"
   ]
  },
  {
   "cell_type": "markdown",
   "metadata": {},
   "source": [
    "Cargamos los datos y verificamos los tipos y su estructura"
   ]
  },
  {
   "cell_type": "code",
   "execution_count": null,
   "metadata": {
    "vscode": {
     "languageId": "r"
    }
   },
   "outputs": [],
   "source": [
    "mall_customers <- read.csv(\"mallCustomers.csv\")\n",
    "str(mall_customers)\n",
    "head(mall_customers)\n",
    "summary(mall_customers)"
   ]
  },
  {
   "cell_type": "markdown",
   "metadata": {},
   "source": [
    "# **Agrupamiento**"
   ]
  },
  {
   "cell_type": "markdown",
   "metadata": {},
   "source": [
    "### **k-means**"
   ]
  },
  {
   "cell_type": "markdown",
   "metadata": {},
   "source": [
    "Primero, calcularemos el número óptimo de centroides a utilizar mediante el método del codo"
   ]
  },
  {
   "cell_type": "code",
   "execution_count": null,
   "metadata": {
    "vscode": {
     "languageId": "r"
    }
   },
   "outputs": [],
   "source": [
    "\n",
    "set.seed(123)\n",
    "wcss <- vector()\n",
    "for (i in 1:10) {\n",
    "  kmeans_model <- kmeans(mall_customers[, c(\"Age\", \"Annual.Income\", \"Spending.Score\")], centers = i, nstart = 10)\n",
    "  wcss[i] <- kmeans_model$tot.withinss\n",
    "}"
   ]
  },
  {
   "cell_type": "markdown",
   "metadata": {},
   "source": [
    "Graficamos los resultados"
   ]
  },
  {
   "cell_type": "code",
   "execution_count": null,
   "metadata": {
    "vscode": {
     "languageId": "r"
    }
   },
   "outputs": [],
   "source": [
    "plot(1:10, wcss, type = 'b', main = \"Método del Codo\", xlab = \"Número de Clústeres (k)\", ylab = \"WCSS\")"
   ]
  },
  {
   "cell_type": "markdown",
   "metadata": {},
   "source": [
    "Determinamos que el número óptimo de centroides es 5, por lo tanto, aplicamos el algoritmo con dicho número, usando todas las variables excepto el género"
   ]
  },
  {
   "cell_type": "code",
   "execution_count": null,
   "metadata": {
    "vscode": {
     "languageId": "r"
    }
   },
   "outputs": [],
   "source": [
    "kmeans_model <- kmeans(mall_customers[, c(\"Age\", \"Annual.Income\", \"Spending.Score\")], centers = 5, nstart = 10)\n",
    "mall_customers$cluster <- kmeans_model$cluster"
   ]
  },
  {
   "cell_type": "markdown",
   "metadata": {},
   "source": [
    "Graficamos los resultados"
   ]
  },
  {
   "cell_type": "code",
   "execution_count": null,
   "metadata": {
    "vscode": {
     "languageId": "r"
    }
   },
   "outputs": [],
   "source": [
    "ggplot(mall_customers, aes(x = Annual.Income, y = Spending.Score, color = factor(cluster))) +\n",
    "  geom_point() +\n",
    "  geom_point(data = kmeans_model$centers, aes(x = Annual.Income, y = Spending.Score), color = 'black', size = 3, shape = 16) +\n",
    "  labs(title = \"Segmentación de clientes\", x = \"Ingresos Anuales\", y = \"Puntuación de Gasto\") +\n",
    "  theme_minimal()"
   ]
  },
  {
   "cell_type": "markdown",
   "metadata": {},
   "source": [
    "Calculamos la información retenida para verificar la calidad del modelo"
   ]
  },
  {
   "cell_type": "code",
   "execution_count": null,
   "metadata": {
    "vscode": {
     "languageId": "r"
    }
   },
   "outputs": [],
   "source": [
    "centroids <- kmeans_model$centers\n",
    "distances_to_centroid <- as.matrix(dist(mall_customers[, c(\"Age\", \"Annual.Income\", \"Spending.Score\")], method = \"euclidean\"))\n",
    "withinss <- rep(0, 5)\n",
    "for (i in 1:5) {\n",
    "  withinss[i] <- sum((distances_to_centroid[, i])^2)\n",
    "}\n",
    "tot_withinss <- sum(withinss)\n",
    "totss <- sum((distances_to_centroid)^2)\n",
    "betweenss <- totss - tot_withinss\n",
    "information <- betweenss / totss\n",
    "information"
   ]
  },
  {
   "cell_type": "markdown",
   "metadata": {},
   "source": [
    "La información retenida es muy alta, lo que indica que es una buena agrupación"
   ]
  },
  {
   "cell_type": "markdown",
   "metadata": {},
   "source": [
    "### **Dendrogramas Jerárquicos**"
   ]
  },
  {
   "cell_type": "markdown",
   "metadata": {},
   "source": [
    "##### **Single**"
   ]
  },
  {
   "cell_type": "markdown",
   "metadata": {},
   "source": [
    "Creamos el dendrograma usando el método single"
   ]
  },
  {
   "cell_type": "code",
   "execution_count": null,
   "metadata": {
    "vscode": {
     "languageId": "r"
    }
   },
   "outputs": [],
   "source": [
    "dendrogram_single <- hclust(dist(mall_customers[, c(\"Age\", \"Annual.Income\", \"Spending.Score\")]), method = \"single\")"
   ]
  },
  {
   "cell_type": "markdown",
   "metadata": {},
   "source": [
    "Graficamos el resultado"
   ]
  },
  {
   "cell_type": "code",
   "execution_count": null,
   "metadata": {
    "vscode": {
     "languageId": "r"
    }
   },
   "outputs": [],
   "source": [
    "plot(dendrogram_single, main = \"Método Single\", xlab = \"\", ylab = \"Distancia\")"
   ]
  },
  {
   "cell_type": "markdown",
   "metadata": {},
   "source": [
    "##### **Centroid**"
   ]
  },
  {
   "cell_type": "markdown",
   "metadata": {},
   "source": [
    "Creamos el dendrograma usando el método centroid"
   ]
  },
  {
   "cell_type": "code",
   "execution_count": null,
   "metadata": {
    "vscode": {
     "languageId": "r"
    }
   },
   "outputs": [],
   "source": [
    "dendrogram_centroid <- hclust(dist(mall_customers[, c(\"Age\", \"Annual.Income\", \"Spending.Score\")]), method = \"centroid\")"
   ]
  },
  {
   "cell_type": "markdown",
   "metadata": {},
   "source": [
    "Graficamos el resultado"
   ]
  },
  {
   "cell_type": "code",
   "execution_count": null,
   "metadata": {
    "vscode": {
     "languageId": "r"
    }
   },
   "outputs": [],
   "source": [
    "plot(dendrogram_centroid, main = \"Método Centroid\", xlab = \"\", ylab = \"Distancia\")"
   ]
  },
  {
   "cell_type": "markdown",
   "metadata": {},
   "source": [
    "##### **Ward**"
   ]
  },
  {
   "cell_type": "markdown",
   "metadata": {},
   "source": [
    "Creamos el dendrograma usando el método ward"
   ]
  },
  {
   "cell_type": "code",
   "execution_count": null,
   "metadata": {
    "vscode": {
     "languageId": "r"
    }
   },
   "outputs": [],
   "source": [
    "dendrogram_ward <- hclust(dist(mall_customers[, c(\"Age\", \"Annual.Income\", \"Spending.Score\")]), method = \"ward.D\")"
   ]
  },
  {
   "cell_type": "markdown",
   "metadata": {},
   "source": [
    "Graficamos el resultado"
   ]
  },
  {
   "cell_type": "code",
   "execution_count": null,
   "metadata": {
    "vscode": {
     "languageId": "r"
    }
   },
   "outputs": [],
   "source": [
    "plot(dendrogram_ward, main = \"Método Ward\", xlab = \"\", ylab = \"Distancia\")"
   ]
  }
 ],
 "metadata": {
  "language_info": {
   "name": "python"
  }
 },
 "nbformat": 4,
 "nbformat_minor": 2
}
